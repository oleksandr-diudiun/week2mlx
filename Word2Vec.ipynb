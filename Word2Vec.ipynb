{
 "cells": [
  {
   "cell_type": "code",
   "execution_count": null,
   "metadata": {},
   "outputs": [],
   "source": [
    "#TODO\n",
    "#Import all the comments data\n",
    "#Concat it into one string ensuring there is a dot after each comment"
   ]
  },
  {
   "cell_type": "code",
   "execution_count": null,
   "metadata": {},
   "outputs": [],
   "source": [
    "#TODO\n",
    "#Split the comment string into a list of tokens via SentencePiece\n",
    "\n",
    "#Transform the list into a list of hot-encoded vectors, e.g. (0,0,...,0,1,0,...,0)"
   ]
  },
  {
   "cell_type": "code",
   "execution_count": null,
   "metadata": {},
   "outputs": [],
   "source": [
    "#TODO\n",
    "#Train the model (via Skip-Gram/CBOW) on the previous list\n",
    "#Note: need to decide whether to do full backprop or do it in mini-batches"
   ]
  },
  {
   "cell_type": "code",
   "execution_count": null,
   "metadata": {},
   "outputs": [],
   "source": [
    "#TODO\n",
    "#Generate a dictionary whith tokens as keys and projection vectors as values"
   ]
  }
 ],
 "metadata": {
  "language_info": {
   "name": "python"
  }
 },
 "nbformat": 4,
 "nbformat_minor": 2
}
