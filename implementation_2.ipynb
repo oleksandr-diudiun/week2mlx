{
 "cells": [
  {
   "cell_type": "code",
   "execution_count": 53,
   "metadata": {},
   "outputs": [],
   "source": [
    "import nltk\n",
    "from nltk.corpus import stopwords\n",
    "from nltk.tokenize import word_tokenize\n",
    "from nltk.stem import WordNetLemmatizer\n",
    "from gensim.models import Word2Vec"
   ]
  },
  {
   "cell_type": "code",
   "execution_count": 54,
   "metadata": {},
   "outputs": [
    {
     "name": "stderr",
     "output_type": "stream",
     "text": [
      "[nltk_data] Downloading package punkt to /Users/jacob/nltk_data...\n",
      "[nltk_data]   Package punkt is already up-to-date!\n",
      "[nltk_data] Downloading package wordnet to /Users/jacob/nltk_data...\n",
      "[nltk_data]   Package wordnet is already up-to-date!\n",
      "[nltk_data] Downloading package stopwords to /Users/jacob/nltk_data...\n",
      "[nltk_data]   Package stopwords is already up-to-date!\n"
     ]
    },
    {
     "data": {
      "text/plain": [
       "True"
      ]
     },
     "execution_count": 54,
     "metadata": {},
     "output_type": "execute_result"
    }
   ],
   "source": [
    "nltk.download('punkt')\n",
    "nltk.download('wordnet')\n",
    "nltk.download('stopwords')"
   ]
  },
  {
   "cell_type": "code",
   "execution_count": 55,
   "metadata": {},
   "outputs": [],
   "source": [
    "corpus = []\n",
    "with open('foo.txt') as f:\n",
    "    corpus.append(f.read())\n",
    "\n",
    "lemmatizer = WordNetLemmatizer()\n",
    "\n",
    "def preprocess_text(text):\n",
    "    tokens = word_tokenize(text.lower())\n",
    "    tokens = [word for word in tokens if word not in stopwords.words('english')]\n",
    "    lemmatized_tokens = [lemmatizer.lemmatize(token) for token in tokens]\n",
    "    return lemmatized_tokens"
   ]
  },
  {
   "cell_type": "code",
   "execution_count": 56,
   "metadata": {},
   "outputs": [],
   "source": [
    "preprocessed_corpus = [preprocess_text(doc) for doc in corpus]"
   ]
  },
  {
   "cell_type": "code",
   "execution_count": 57,
   "metadata": {},
   "outputs": [
    {
     "data": {
      "text/plain": [
       "[\"The quick brown fox jumps over the lazy dog.\\nExploring the depths of space requires innovative technology and enduring curiosity.\\nIn the heart of the ancient forest, a hidden spring whispered stories of old.\\nTechnology's rapid advancement challenges us to adapt and learn continuously.\\nFarmers market on Sundays offers fresh produce, homemade goods, and vibrant flowers.\\nA cup of tea and a good book can soothe the soul on a quiet evening.\\nThe artist's studio was a chaotic blend of paint, brushes, and untold creativity.\\nHistorical events shape our understanding of the world and influence future decisions.\\nAdvances in medical research bring hope to millions suffering from chronic conditions.\\nLearning a new language opens doors to understanding different cultures and perspectives.\\nSustainable living practices contribute to a healthier planet and future generations.\\nThe melody of the rain on the roof provided a comforting backdrop to the evening.\\nEntrepreneurship requires resilience, innovation, and a willingness to take risks.\\nThe ancient library held manuscripts containing knowledge lost to time.\\nArtificial intelligence and machine learning are reshaping industries and everyday life.\\nThe festival celebrated the harvest with music, dance, and a feast of local specialties.\\nIn the silence of the mountains, one finds peace and a sense of connection to nature.\\nEconomic policies and market trends significantly impact global and local economies.\\nA well-designed urban park becomes a community hub and a haven of tranquility.\\nExploring culinary traditions from around the world reveals the diversity of human culture.\\n\"]"
      ]
     },
     "execution_count": 57,
     "metadata": {},
     "output_type": "execute_result"
    }
   ],
   "source": [
    "corpus"
   ]
  },
  {
   "cell_type": "code",
   "execution_count": 58,
   "metadata": {},
   "outputs": [
    {
     "name": "stdout",
     "output_type": "stream",
     "text": [
      "0 ['quick', 'brown', 'fox', 'jump', 'lazy', 'dog', '.', 'exploring', 'depth', 'space', 'requires', 'innovative', 'technology', 'enduring', 'curiosity', '.', 'heart', 'ancient', 'forest', ',', 'hidden', 'spring', 'whispered', 'story', 'old', '.', 'technology', \"'s\", 'rapid', 'advancement', 'challenge', 'u', 'adapt', 'learn', 'continuously', '.', 'farmer', 'market', 'sunday', 'offer', 'fresh', 'produce', ',', 'homemade', 'good', ',', 'vibrant', 'flower', '.', 'cup', 'tea', 'good', 'book', 'soothe', 'soul', 'quiet', 'evening', '.', 'artist', \"'s\", 'studio', 'chaotic', 'blend', 'paint', ',', 'brush', ',', 'untold', 'creativity', '.', 'historical', 'event', 'shape', 'understanding', 'world', 'influence', 'future', 'decision', '.', 'advance', 'medical', 'research', 'bring', 'hope', 'million', 'suffering', 'chronic', 'condition', '.', 'learning', 'new', 'language', 'open', 'door', 'understanding', 'different', 'culture', 'perspective', '.', 'sustainable', 'living', 'practice', 'contribute', 'healthier', 'planet', 'future', 'generation', '.', 'melody', 'rain', 'roof', 'provided', 'comforting', 'backdrop', 'evening', '.', 'entrepreneurship', 'requires', 'resilience', ',', 'innovation', ',', 'willingness', 'take', 'risk', '.', 'ancient', 'library', 'held', 'manuscript', 'containing', 'knowledge', 'lost', 'time', '.', 'artificial', 'intelligence', 'machine', 'learning', 'reshaping', 'industry', 'everyday', 'life', '.', 'festival', 'celebrated', 'harvest', 'music', ',', 'dance', ',', 'feast', 'local', 'specialty', '.', 'silence', 'mountain', ',', 'one', 'find', 'peace', 'sense', 'connection', 'nature', '.', 'economic', 'policy', 'market', 'trend', 'significantly', 'impact', 'global', 'local', 'economy', '.', 'well-designed', 'urban', 'park', 'becomes', 'community', 'hub', 'tranquility', '.', 'exploring', 'culinary', 'tradition', 'around', 'world', 'reveals', 'diversity', 'human', 'culture', '.']\n"
     ]
    }
   ],
   "source": [
    "for i, j in enumerate(preprocessed_corpus):\n",
    "    print(i, j)"
   ]
  },
  {
   "cell_type": "code",
   "execution_count": 59,
   "metadata": {},
   "outputs": [],
   "source": [
    "model = Word2Vec(sentences=preprocessed_corpus, vector_size=100, window=5, min_count=1, workers=4, sg=0) # sg ({0, 1}, optional) – Training algorithm: 1 for skip-gram; otherwise CBOW.\n",
    "model.save(\"word2vec.model\")"
   ]
  },
  {
   "cell_type": "code",
   "execution_count": 60,
   "metadata": {},
   "outputs": [],
   "source": [
    "model = Word2Vec.load(\"word2vec.model\")"
   ]
  },
  {
   "cell_type": "code",
   "execution_count": 61,
   "metadata": {},
   "outputs": [
    {
     "name": "stdout",
     "output_type": "stream",
     "text": [
      "[[ 9.51023540e-04  8.58255569e-03 -4.00780793e-03  2.98988889e-03\n",
      "   3.21269408e-03 -6.57272525e-03  9.11834836e-03  5.44361165e-03\n",
      "   4.75885859e-03 -1.54579047e-03  9.73186269e-03  3.92080238e-03\n",
      "  -1.35668647e-03  3.84985004e-03  5.61210699e-03  7.75148859e-03\n",
      "   1.58815261e-03  1.73621380e-03 -3.13952076e-03 -5.49200317e-03\n",
      "  -8.67728703e-03 -1.87062041e-03 -2.73348764e-03  2.37176334e-03\n",
      "  -8.65580369e-05  1.40495610e-03  5.19144349e-03 -6.16652658e-03\n",
      "   6.86055329e-03  6.47175312e-03  6.11005491e-03  1.58861058e-03\n",
      "  -2.36771986e-04  1.45397289e-03 -7.51613127e-03 -5.83585631e-03\n",
      "   2.04967032e-03 -1.71275227e-04  4.20602970e-03 -4.71580867e-03\n",
      "   4.92066378e-03 -3.33935954e-03  6.45911274e-03 -3.12548550e-03\n",
      "  -4.08661366e-03  2.10768310e-03 -1.13335578e-03 -2.51505524e-03\n",
      "  -3.48987198e-03  7.99876638e-03 -9.07246303e-03  5.01479162e-03\n",
      "  -3.15312506e-03  9.62428004e-03  4.12429869e-03  2.22016871e-03\n",
      "  -3.00145056e-03 -1.42095494e-03 -5.50015597e-03 -2.13184510e-03\n",
      "   6.37061382e-03 -9.26911924e-03  2.99761281e-03  4.06607520e-03\n",
      "   7.48254405e-03 -3.63148982e-03  5.42400731e-03 -9.49139986e-03\n",
      "   4.67697449e-04  8.30092374e-03  3.99709167e-03 -5.23645431e-03\n",
      "  -2.87000393e-03 -8.13798979e-03  2.45323346e-04  4.78808489e-03\n",
      "  -7.39086978e-03  5.48283756e-03 -4.16205171e-03  5.41018182e-03\n",
      "   5.74128004e-03  2.32505403e-03 -1.33504462e-03 -9.40104388e-03\n",
      "  -5.58594288e-03  6.98062533e-04 -9.92459152e-03  9.25419014e-03\n",
      "   3.36894626e-03 -8.45419418e-04  8.70268792e-03 -3.98733281e-03\n",
      "   1.17770676e-03  1.15625793e-03  7.27999676e-03  2.69485521e-03\n",
      "  -3.10596311e-03 -4.06782934e-03 -7.89949484e-03  5.50179416e-03]\n",
      " [ 8.63922411e-04 -9.13811789e-04  8.87420960e-03 -4.66198754e-03\n",
      "  -7.36535341e-03 -1.16119656e-04  8.61634966e-03  9.01587121e-03\n",
      "  -3.33121954e-03  5.09889890e-03  8.76364764e-03 -7.99716543e-03\n",
      "   6.55044522e-03  1.13194610e-03 -9.36337281e-03 -1.50027859e-03\n",
      "  -6.03017397e-03 -6.91673253e-03  7.23657012e-03  3.25073465e-03\n",
      "  -2.23471294e-03 -6.78632688e-03  8.61186441e-03  4.01361147e-03\n",
      "  -2.59098969e-03  2.14563310e-03  8.41127615e-03 -5.39547531e-03\n",
      "  -5.58880344e-03 -8.68764706e-03  8.14207271e-03  2.24265130e-03\n",
      "  -1.86498940e-03  1.96965225e-03 -7.48954341e-03 -3.54387285e-03\n",
      "  -4.92792483e-03 -4.85614920e-03 -7.91574549e-03  4.82736062e-03\n",
      "   6.67706318e-03  1.11866719e-03 -5.03829727e-03 -9.55912808e-04\n",
      "  -4.02390398e-03 -9.83357430e-04 -2.17137346e-03  8.52028653e-03\n",
      "   6.32749731e-03 -9.70416330e-03  7.56253116e-03  7.76037946e-03\n",
      "  -2.51077465e-03 -1.25987933e-03  5.96501259e-03 -9.34223086e-03\n",
      "   5.04725054e-03  4.03154688e-03  7.61438906e-03 -6.77382387e-03\n",
      "  -6.07697712e-03 -4.29725420e-04 -6.72971271e-03 -1.48399128e-03\n",
      "  -3.71140690e-04  8.69540684e-03  8.59620702e-03  3.79283587e-03\n",
      "  -6.11092057e-03  7.85303675e-03 -1.02910632e-03  7.55415810e-03\n",
      "  -6.11808896e-03  3.54669406e-03 -6.01621345e-03  8.09157360e-03\n",
      "  -7.57323066e-03 -5.95534733e-03 -7.42792664e-03  5.66814700e-03\n",
      "  -9.49864183e-03  2.98643438e-03 -1.34706404e-03  8.91565625e-03\n",
      "  -4.26865602e-03  3.24664707e-03 -3.41036427e-03  3.96596594e-03\n",
      "   9.55426716e-04  6.14439603e-04 -2.95258593e-03  3.21784336e-03\n",
      "  -6.13199081e-03  1.34810212e-03 -6.08743692e-04 -6.35840744e-03\n",
      "   8.92769080e-03 -7.47314794e-03  6.14338089e-03  8.49070435e-04]]\n"
     ]
    }
   ],
   "source": [
    "print(model.wv['new','language'])"
   ]
  }
 ],
 "metadata": {
  "kernelspec": {
   "display_name": "mlx4-2",
   "language": "python",
   "name": "python3"
  },
  "language_info": {
   "codemirror_mode": {
    "name": "ipython",
    "version": 3
   },
   "file_extension": ".py",
   "mimetype": "text/x-python",
   "name": "python",
   "nbconvert_exporter": "python",
   "pygments_lexer": "ipython3",
   "version": "3.12.2"
  }
 },
 "nbformat": 4,
 "nbformat_minor": 2
}
