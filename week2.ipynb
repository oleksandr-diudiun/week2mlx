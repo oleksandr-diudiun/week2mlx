{
 "cells": [
  {
   "cell_type": "code",
   "execution_count": 387,
   "id": "df7226d1",
   "metadata": {},
   "outputs": [],
   "source": [
    "from torchtext.data.functional import generate_sp_model\n",
    "from torchtext.data.functional import load_sp_model\n",
    "from torchtext.data.functional import sentencepiece_tokenizer\n",
    "from torchtext.data.functional import sentencepiece_numericalizer"
   ]
  },
  {
   "cell_type": "code",
   "execution_count": 388,
   "id": "5c57af6b-732b-4ffc-b0b3-fa7d4ad524df",
   "metadata": {},
   "outputs": [
    {
     "name": "stderr",
     "output_type": "stream",
     "text": [
      "sentencepiece_trainer.cc(177) LOG(INFO) Running command: --input=foo.txt                            --vocab_size=173                            --model_prefix=custom_sp_model                            --model_type=unigram\n",
      "sentencepiece_trainer.cc(77) LOG(INFO) Starts training with : \n",
      "trainer_spec {\n",
      "  input: foo.txt\n",
      "  input_format: \n",
      "  model_prefix: custom_sp_model\n",
      "  model_type: UNIGRAM\n",
      "  vocab_size: 173\n",
      "  self_test_sample_size: 0\n",
      "  character_coverage: 0.9995\n",
      "  input_sentence_size: 0\n",
      "  shuffle_input_sentence: 1\n",
      "  seed_sentencepiece_size: 1000000\n",
      "  shrinking_factor: 0.75\n",
      "  max_sentence_length: 4192\n",
      "  num_threads: 16\n",
      "  num_sub_iterations: 2\n",
      "  max_sentencepiece_length: 16\n",
      "  split_by_unicode_script: 1\n",
      "  split_by_number: 1\n",
      "  split_by_whitespace: 1\n",
      "  split_digits: 0\n",
      "  pretokenization_delimiter: \n",
      "  treat_whitespace_as_suffix: 0\n",
      "  allow_whitespace_only_pieces: 0\n",
      "  required_chars: \n",
      "  byte_fallback: 0\n",
      "  vocabulary_output_piece_score: 1\n",
      "  train_extremely_large_corpus: 0\n",
      "  hard_vocab_limit: 1\n",
      "  use_all_vocab: 0\n",
      "  unk_id: 0\n",
      "  bos_id: 1\n",
      "  eos_id: 2\n",
      "  pad_id: -1\n",
      "  unk_piece: <unk>\n",
      "  bos_piece: <s>\n",
      "  eos_piece: </s>\n",
      "  pad_piece: <pad>\n",
      "  unk_surface:  ⁇ \n",
      "  enable_differential_privacy: 0\n",
      "  differential_privacy_noise_level: 0\n",
      "  differential_privacy_clipping_threshold: 0\n",
      "}\n",
      "normalizer_spec {\n",
      "  name: nmt_nfkc\n",
      "  add_dummy_prefix: 1\n",
      "  remove_extra_whitespaces: 1\n",
      "  escape_whitespaces: 1\n",
      "  normalization_rule_tsv: \n",
      "}\n",
      "denormalizer_spec {}\n",
      "trainer_interface.cc(351) LOG(INFO) SentenceIterator is not specified. Using MultiFileSentenceIterator.\n",
      "trainer_interface.cc(183) LOG(INFO) Loading corpus: foo.txt\n",
      "trainer_interface.cc(407) LOG(INFO) Loaded all 20 sentences\n",
      "trainer_interface.cc(423) LOG(INFO) Adding meta_piece: <unk>\n",
      "trainer_interface.cc(423) LOG(INFO) Adding meta_piece: <s>\n",
      "trainer_interface.cc(423) LOG(INFO) Adding meta_piece: </s>\n",
      "trainer_interface.cc(428) LOG(INFO) Normalizing sentences...\n",
      "trainer_interface.cc(537) LOG(INFO) all chars count=1629\n",
      "trainer_interface.cc(558) LOG(INFO) Alphabet size=39\n",
      "trainer_interface.cc(559) LOG(INFO) Final character coverage=1\n",
      "trainer_interface.cc(591) LOG(INFO) Done! preprocessed 20 sentences.\n",
      "unigram_model_trainer.cc(222) LOG(INFO) Making suffix array...\n",
      "unigram_model_trainer.cc(226) LOG(INFO) Extracting frequent sub strings... node_num=718\n",
      "unigram_model_trainer.cc(274) LOG(INFO) Initialized 415 seed sentencepieces\n",
      "trainer_interface.cc(597) LOG(INFO) Tokenizing input sentences with whitespace: 20\n",
      "trainer_interface.cc(608) LOG(INFO) Done! 170\n",
      "unigram_model_trainer.cc(564) LOG(INFO) Using 170 sentences for EM training\n",
      "unigram_model_trainer.cc(580) LOG(INFO) EM sub_iter=0 size=274 obj=15.9092 num_tokens=582 num_tokens/piece=2.12409\n",
      "unigram_model_trainer.cc(580) LOG(INFO) EM sub_iter=1 size=243 obj=15.2358 num_tokens=592 num_tokens/piece=2.43621\n",
      "unigram_model_trainer.cc(580) LOG(INFO) EM sub_iter=0 size=189 obj=17.0968 num_tokens=644 num_tokens/piece=3.40741\n",
      "unigram_model_trainer.cc(580) LOG(INFO) EM sub_iter=1 size=188 obj=16.567 num_tokens=646 num_tokens/piece=3.43617\n",
      "trainer_interface.cc(686) LOG(INFO) Saving model: custom_sp_model.model\n",
      "trainer_interface.cc(698) LOG(INFO) Saving vocabs: custom_sp_model.vocab\n"
     ]
    }
   ],
   "source": [
    "# Path to your dataset file\n",
    "filename = 'foo.txt'\n",
    "vocab_size = 173\n",
    "model_prefix = 'custom_sp_model'\n",
    "\n",
    "# Train SentencePiece model\n",
    "generate_sp_model(filename, vocab_size=vocab_size, model_prefix=model_prefix, model_type='unigram')\n"
   ]
  },
  {
   "cell_type": "code",
   "execution_count": 389,
   "id": "395e86eb",
   "metadata": {},
   "outputs": [],
   "source": [
    "sp_model = load_sp_model(\"custom_sp_model.model\")"
   ]
  },
  {
   "cell_type": "code",
   "execution_count": 390,
   "id": "7b602aed",
   "metadata": {},
   "outputs": [],
   "source": [
    "sp_tokens_generator = sentencepiece_tokenizer(sp_model)\n",
    "sp_id_generator = sentencepiece_numericalizer(sp_model)"
   ]
  },
  {
   "cell_type": "code",
   "execution_count": 400,
   "id": "6aff5304",
   "metadata": {},
   "outputs": [
    {
     "name": "stdout",
     "output_type": "stream",
     "text": [
      "[['▁', 'H', 'ell', 'o', ',', '▁ho', 'w', '▁a', 're', '▁', 'y', 'o', 'u', '?']]\n"
     ]
    }
   ],
   "source": [
    "print(list(sp_tokens_generator([\"Hello, how are you?\"])))"
   ]
  },
  {
   "cell_type": "code",
   "execution_count": 391,
   "id": "2114cd45",
   "metadata": {},
   "outputs": [],
   "source": [
    "list_a = [\"I learn a language\"]\n",
    "tokenised_sent = list(sp_tokens_generator(list_a))"
   ]
  },
  {
   "cell_type": "code",
   "execution_count": 392,
   "id": "3545d788",
   "metadata": {},
   "outputs": [],
   "source": [
    "foo = list(sp_id_generator(list_a))"
   ]
  },
  {
   "cell_type": "code",
   "execution_count": 394,
   "id": "262fc2d5",
   "metadata": {},
   "outputs": [
    {
     "name": "stdout",
     "output_type": "stream",
     "text": [
      "[['▁', 'I', '▁learn', '▁a', '▁la', 'ng', 'u', 'a', 'ge']]\n",
      "[[3, 94, 108, 12, 124, 50, 16, 18, 83]]\n"
     ]
    }
   ],
   "source": [
    "print(tokenised_sent)\n",
    "print(foo)"
   ]
  }
 ],
 "metadata": {
  "kernelspec": {
   "display_name": "Python 3 (ipykernel)",
   "language": "python",
   "name": "python3"
  },
  "language_info": {
   "codemirror_mode": {
    "name": "ipython",
    "version": 3
   },
   "file_extension": ".py",
   "mimetype": "text/x-python",
   "name": "python",
   "nbconvert_exporter": "python",
   "pygments_lexer": "ipython3",
   "version": "3.12.2"
  }
 },
 "nbformat": 4,
 "nbformat_minor": 5
}
