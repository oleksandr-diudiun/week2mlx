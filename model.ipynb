{
 "cells": [
  {
   "cell_type": "markdown",
   "metadata": {},
   "source": [
    "# Header"
   ]
  },
  {
   "cell_type": "markdown",
   "metadata": {},
   "source": [
    "Imports"
   ]
  },
  {
   "cell_type": "code",
   "execution_count": 60,
   "metadata": {},
   "outputs": [],
   "source": [
    "import os\n",
    "\n",
    "# Data Processing Modules\n",
    "import pandas as pd\n",
    "import numpy as np\n",
    "import matplotlib.pyplot as plt\n",
    "\n",
    "\n",
    "# SentencePiece\n",
    "import sentencepiece as spm\n",
    "\n",
    "# Word2Vec\n",
    "from gensim.models import Word2Vec\n",
    "from gensim.models import FastText\n",
    "\n",
    "# Model Evaluation\n",
    "from sklearn.model_selection import train_test_split\n",
    "\n",
    "# Model Creation\n",
    "import torch\n",
    "import torch.nn as nn\n",
    "import torch.optim as optim"
   ]
  },
  {
   "cell_type": "markdown",
   "metadata": {},
   "source": [
    "Preprocessing Data Functions"
   ]
  },
  {
   "cell_type": "code",
   "execution_count": 61,
   "metadata": {},
   "outputs": [],
   "source": [
    "def dataframe_sentence_generator(df):\n",
    "    for sentence in df:\n",
    "        yield sentence\n",
    "        \n",
    "def get_sentence_tokens(sentence, sp):\n",
    "    '''Gets the word tokens of a given sentence by tokenising'''\n",
    "    tokens = sp.encode_as_pieces(sentence)\n",
    "    return tokens\n",
    "\n",
    "def get_avg_vector_for_sent(tokens, model):\n",
    "    '''Uses the Word2Vec LUT to get the vector representation of a tokens \n",
    "       in a sentence and takes the mean'''\n",
    "    vector = np.zeros(model.vector_size)\n",
    "    for token in tokens:\n",
    "        if token in model.wv:\n",
    "            vector += model.wv[token]\n",
    "    if len(tokens) > 0: \n",
    "        vector /= len(tokens)\n",
    "    return vector\n",
    "    \n",
    "def sentence_to_vector(sentence, model,sp):\n",
    "    '''Returns the vector representation of a sentence\n",
    "       by taking the average of the Word2Vec representations of the \n",
    "       words / subwords'''\n",
    "    tokens = get_sentence_tokens(sentence,sp)\n",
    "    vector = get_avg_vector_for_sent(tokens, model)\n",
    "    return vector\n",
    "\n",
    "def train_fasttext_model(tokenized_texts, vector_size=25):\n",
    "    fasttext_model = FastText(sentences=tokenized_texts, vector_size=vector_size, window=5, min_count=1, workers=4, sg=1)  # sg=1 means skip-gram\n",
    "    return fasttext_model\n",
    "\n",
    "def fasttext_sentence_to_vector(sentence, model):\n",
    "    '''Directly uses FastText to get the vector representation of a sentence'''\n",
    "    # Splitting the sentence into words; this could be replaced or refined as needed\n",
    "    tokens = sentence.split()  \n",
    "    vector = np.zeros(model.vector_size)\n",
    "    for token in tokens:\n",
    "        vector += model.wv[token]  # FastText will handle OOV words using n-grams\n",
    "    if len(tokens) > 0: \n",
    "        vector /= len(tokens)\n",
    "    return vector\n"
   ]
  },
  {
   "cell_type": "markdown",
   "metadata": {},
   "source": [
    "Preprocessing to Model Functions"
   ]
  },
  {
   "cell_type": "markdown",
   "metadata": {},
   "source": [
    "Model Creation"
   ]
  },
  {
   "cell_type": "code",
   "execution_count": 62,
   "metadata": {},
   "outputs": [],
   "source": [
    "class UpvotesPredictorNN(nn.Module):\n",
    "    def __init__(self, word_dimensionality):\n",
    "        super(UpvotesPredictorNN, self).__init__()\n",
    "        \n",
    "        # Input layer to 1st hidden layer\n",
    "        self.fc1 = nn.Linear(word_dimensionality, 128)\n",
    "        self.relu1 = nn.ReLU()\n",
    "        \n",
    "        # 1st hidden layer to 2nd hidden layer\n",
    "        self.fc2 = nn.Linear(128, 32)\n",
    "        self.relu2 = nn.ReLU()\n",
    "        \n",
    "        # 2nd hidden layer to output layer\n",
    "        self.output = nn.Linear(32, 1)\n",
    "        \n",
    "    def forward(self, x):\n",
    "        x = self.relu1(self.fc1(x))\n",
    "        x = self.relu2(self.fc2(x))\n",
    "        output = self.output(x)\n",
    "        return output"
   ]
  },
  {
   "cell_type": "markdown",
   "metadata": {},
   "source": [
    "# Main Execution"
   ]
  },
  {
   "cell_type": "markdown",
   "metadata": {},
   "source": [
    "Set Env"
   ]
  },
  {
   "cell_type": "code",
   "execution_count": 63,
   "metadata": {},
   "outputs": [
    {
     "name": "stdout",
     "output_type": "stream",
     "text": [
      "mps\n"
     ]
    }
   ],
   "source": [
    "if os.sys.platform == 'darwin':      # MacOS\n",
    "    device = torch.device(\"mps\" if torch.backends.mps.is_available() else \"cpu\")\n",
    "elif os.sys.platform == 'win32':    # Windows\n",
    "    device = torch.device(\"cuda\" if torch.cuda.is_available() else \"cpu\")\n",
    "else:                               # other OS\n",
    "    device = torch.device(\"cuda\" if torch.cuda.is_available() else \"cpu\")\n",
    "\n",
    "print(device)"
   ]
  },
  {
   "cell_type": "markdown",
   "metadata": {},
   "source": [
    "Load Dataset"
   ]
  },
  {
   "cell_type": "code",
   "execution_count": 64,
   "metadata": {},
   "outputs": [],
   "source": [
    "file_path = './data/TitlesAndScoreALL.csv'\n",
    "data_df = pd.read_csv(file_path, sep=',')"
   ]
  },
  {
   "cell_type": "markdown",
   "metadata": {},
   "source": [
    "Set Embedding Dim"
   ]
  },
  {
   "cell_type": "code",
   "execution_count": 65,
   "metadata": {},
   "outputs": [],
   "source": [
    "word_dimensionality = 25"
   ]
  },
  {
   "cell_type": "markdown",
   "metadata": {},
   "source": [
    "Generate Embeddings"
   ]
  },
  {
   "cell_type": "code",
   "execution_count": 66,
   "metadata": {},
   "outputs": [
    {
     "name": "stderr",
     "output_type": "stream",
     "text": [
      "sentencepiece_trainer.cc(77) LOG(INFO) Starts training with : \n",
      "trainer_spec {\n",
      "  input_format: \n",
      "  model_prefix: ./data/spm_model\n",
      "  model_type: WORD\n",
      "  vocab_size: 12828\n",
      "  self_test_sample_size: 0\n",
      "  character_coverage: 0.9995\n",
      "  input_sentence_size: 0\n",
      "  shuffle_input_sentence: 1\n",
      "  seed_sentencepiece_size: 1000000\n",
      "  shrinking_factor: 0.75\n",
      "  max_sentence_length: 4192\n",
      "  num_threads: 16\n",
      "  num_sub_iterations: 2\n",
      "  max_sentencepiece_length: 16\n",
      "  split_by_unicode_script: 1\n",
      "  split_by_number: 1\n",
      "  split_by_whitespace: 1\n",
      "  split_digits: 0\n",
      "  pretokenization_delimiter: \n",
      "  treat_whitespace_as_suffix: 0\n",
      "  allow_whitespace_only_pieces: 0\n",
      "  required_chars: \n",
      "  byte_fallback: 0\n",
      "  vocabulary_output_piece_score: 1\n",
      "  train_extremely_large_corpus: 0\n",
      "  hard_vocab_limit: 1\n",
      "  use_all_vocab: 0\n",
      "  unk_id: 0\n",
      "  bos_id: 1\n",
      "  eos_id: 2\n",
      "  pad_id: -1\n",
      "  unk_piece: <unk>\n",
      "  bos_piece: <s>\n",
      "  eos_piece: </s>\n",
      "  pad_piece: <pad>\n",
      "  unk_surface:  ⁇ \n",
      "  enable_differential_privacy: 0\n",
      "  differential_privacy_noise_level: 0\n",
      "  differential_privacy_clipping_threshold: 0\n",
      "}\n",
      "normalizer_spec {\n",
      "  name: nmt_nfkc\n",
      "  add_dummy_prefix: 1\n",
      "  remove_extra_whitespaces: 1\n",
      "  escape_whitespaces: 1\n",
      "  normalization_rule_tsv: \n",
      "}\n",
      "denormalizer_spec {}\n",
      "trainer_interface.cc(407) LOG(INFO) Loaded all 165806 sentences\n",
      "trainer_interface.cc(423) LOG(INFO) Adding meta_piece: <unk>\n",
      "trainer_interface.cc(423) LOG(INFO) Adding meta_piece: <s>\n",
      "trainer_interface.cc(423) LOG(INFO) Adding meta_piece: </s>\n",
      "trainer_interface.cc(428) LOG(INFO) Normalizing sentences...\n",
      "trainer_interface.cc(537) LOG(INFO) all chars count=7517641\n",
      "trainer_interface.cc(548) LOG(INFO) Done: 99.9504% characters are covered.\n",
      "trainer_interface.cc(558) LOG(INFO) Alphabet size=97\n",
      "trainer_interface.cc(559) LOG(INFO) Final character coverage=0.999504\n",
      "trainer_interface.cc(591) LOG(INFO) Done! preprocessed 165803 sentences.\n",
      "trainer_interface.cc(686) LOG(INFO) Saving model: ./data/spm_model.model\n",
      "trainer_interface.cc(698) LOG(INFO) Saving vocabs: ./data/spm_model.vocab\n"
     ]
    }
   ],
   "source": [
    "spm.SentencePieceTrainer.train(\n",
    "    sentence_iterator=dataframe_sentence_generator(data_df['title']), \n",
    "    vocab_size=12_828,\n",
    "    model_prefix='./data/spm_model', \n",
    "    model_type='word',\n",
    ")\n",
    "sp = spm.SentencePieceProcessor()\n",
    "sp.load('./data/spm_model.model')\n",
    "\n",
    "tokenized_titles = [sp.encode_as_pieces(title) for title in data_df['title']]\n",
    "\n",
    "# word2vec_model = Word2Vec(sentences=tokenized_titles, vector_size=word_dimensionality, window=5, min_count=1, workers=4, sg=1)\n",
    "# data_df['sentence_vector'] = data_df['title'].apply(lambda x: sentence_to_vector(x, word2vec_model, sp))\n",
    "\n",
    "fasttext_model = FastText(sentences=data_df['title'], vector_size=word_dimensionality, window=5, min_count=1, workers=4, sg=1)\n",
    "data_df['sentence_vector'] = data_df['title'].apply(lambda x: fasttext_sentence_to_vector(x, fasttext_model))\n"
   ]
  },
  {
   "cell_type": "markdown",
   "metadata": {},
   "source": [
    "Train Test Split"
   ]
  },
  {
   "cell_type": "code",
   "execution_count": 67,
   "metadata": {},
   "outputs": [],
   "source": [
    "# Split the data into training and test sets\n",
    "X_train, X_test_and_val, y_train, y_test_and_val = train_test_split(\n",
    "    data_df['sentence_vector'].tolist(), \n",
    "    data_df['score'], \n",
    "    test_size=0.3, \n",
    "    random_state=42\n",
    ")\n",
    "\n",
    "X_test, X_val, y_test, y_val = train_test_split(\n",
    "    X_test_and_val, \n",
    "    y_test_and_val, \n",
    "    test_size=0.5, \n",
    "    random_state=42\n",
    ")\n",
    "\n",
    "X_train = torch.tensor(np.vstack(X_train), dtype=torch.float32).to(device)\n",
    "y_train = torch.tensor(np.array(y_train), dtype=torch.float32).view(-1, 1).to(device)\n",
    "\n",
    "X_val = torch.tensor(np.vstack(X_val), dtype=torch.float32).to(device)\n",
    "y_val = torch.tensor(np.array(y_val), dtype=torch.float32).view(-1, 1).to(device)\n",
    "\n",
    "X_test = torch.tensor(np.vstack(X_test), dtype=torch.float32).to(device)\n",
    "y_test = torch.tensor(np.array(y_test), dtype=torch.float32).view(-1, 1).to(device)"
   ]
  },
  {
   "cell_type": "markdown",
   "metadata": {},
   "source": [
    "Training Loop"
   ]
  },
  {
   "cell_type": "code",
   "execution_count": 68,
   "metadata": {},
   "outputs": [
    {
     "name": "stdout",
     "output_type": "stream",
     "text": [
      "Epoch 1,\t Train Loss: 321.7630615234375,\t Val Loss: 293.90582275390625\n",
      "Epoch 101,\t Train Loss: 272.9645690917969,\t Val Loss: 247.18722534179688\n",
      "Epoch 201,\t Train Loss: 267.0618896484375,\t Val Loss: 242.920166015625\n",
      "Epoch 301,\t Train Loss: 266.6505126953125,\t Val Loss: 242.5613250732422\n",
      "Epoch 401,\t Train Loss: 266.4088439941406,\t Val Loss: 242.37669372558594\n",
      "Epoch 501,\t Train Loss: 266.2508239746094,\t Val Loss: 242.26885986328125\n",
      "Epoch 601,\t Train Loss: 266.1244812011719,\t Val Loss: 242.18914794921875\n",
      "Epoch 701,\t Train Loss: 266.0177307128906,\t Val Loss: 242.12942504882812\n",
      "Epoch 801,\t Train Loss: 265.93170166015625,\t Val Loss: 242.09165954589844\n",
      "Epoch 901,\t Train Loss: 265.8650207519531,\t Val Loss: 242.07164001464844\n",
      "Epoch 1001,\t Train Loss: 265.81451416015625,\t Val Loss: 242.05853271484375\n",
      "Epoch 1101,\t Train Loss: 265.76837158203125,\t Val Loss: 242.04295349121094\n",
      "Epoch 1201,\t Train Loss: 265.69586181640625,\t Val Loss: 242.0098876953125\n",
      "Epoch 1301,\t Train Loss: 265.6026611328125,\t Val Loss: 241.9927978515625\n",
      "Epoch 1401,\t Train Loss: 265.5076904296875,\t Val Loss: 241.96078491210938\n",
      "Epoch 1501,\t Train Loss: 265.4096374511719,\t Val Loss: 241.9412841796875\n",
      "Epoch 1601,\t Train Loss: 265.3257141113281,\t Val Loss: 241.93362426757812\n",
      "Epoch 1701,\t Train Loss: 265.2582092285156,\t Val Loss: 241.91346740722656\n",
      "Epoch 1801,\t Train Loss: 265.2000427246094,\t Val Loss: 241.90892028808594\n",
      "Epoch 1901,\t Train Loss: 265.15081787109375,\t Val Loss: 241.92478942871094\n"
     ]
    }
   ],
   "source": [
    "# Define model and hyperparameters\n",
    "model = UpvotesPredictorNN(word_dimensionality=word_dimensionality).to(device)\n",
    "criterion = nn.MSELoss()\n",
    "num_epochs = 2000\n",
    "optimizer = optim.Adam(model.parameters(), lr=0.001)\n",
    "\n",
    "# Storage object for data vis\n",
    "list_of_lists = []\n",
    "\n",
    "# Training loop\n",
    "for epoch in range(num_epochs):\n",
    "    # Set model to training mode\n",
    "    model.train()\n",
    "    optimizer.zero_grad()\n",
    "    outputs = model(X_train.to(device))\n",
    "    loss = criterion(outputs, y_train.to(device))\n",
    "    loss.backward()\n",
    "    optimizer.step()\n",
    "    \n",
    "    \n",
    "    # Set model to evaluation mode\n",
    "    model.eval()\n",
    "    val_loss = 0\n",
    "    with torch.no_grad():\n",
    "        predictions = model(X_test.to(device))\n",
    "        val_loss = criterion(predictions, y_test.to(device))\n",
    "    \n",
    "    # Store loss for data vis\n",
    "    list_of_lists.append([epoch, loss.item(), val_loss.item()])\n",
    "    \n",
    "    # # Logging\n",
    "    if epoch % 100 == 0:\n",
    "        print(f'Epoch {epoch+1},\\t Train Loss: {loss.item()},\\t Val Loss: {val_loss.item()}')"
   ]
  },
  {
   "cell_type": "markdown",
   "metadata": {},
   "source": [
    "Evaluation"
   ]
  },
  {
   "cell_type": "code",
   "execution_count": 69,
   "metadata": {},
   "outputs": [],
   "source": [
    "train_loss_list = []\n",
    "val_loss_list = []\n",
    "epoch_list = []\n",
    "\n",
    "for i,j,k in list_of_lists:\n",
    "    epoch_list.append(i)\n",
    "    train_loss_list.append(j)\n",
    "    val_loss_list.append(k)"
   ]
  },
  {
   "cell_type": "code",
   "execution_count": 70,
   "metadata": {},
   "outputs": [
    {
     "data": {
      "image/png": "[encoded data removed]",
      "text/plain": [
       "<Figure size 640x480 with 1 Axes>"
      ]
     },
     "metadata": {},
     "output_type": "display_data"
    }
   ],
   "source": [
    "plt.plot(epoch_list, train_loss_list, label='Train Loss')\n",
    "plt.plot(epoch_list, val_loss_list, label='Val Loss')\n",
    "plt.title('Loss over epochs')\n",
    "plt.xlabel('Epochs')\n",
    "plt.ylabel('Loss')\n",
    "plt.legend()\n",
    "plt.show()"
   ]
  },
  {
   "cell_type": "code",
   "execution_count": 71,
   "metadata": {},
   "outputs": [
    {
     "name": "stdout",
     "output_type": "stream",
     "text": [
      "Test Loss: 241.9383544921875\n"
     ]
    }
   ],
   "source": [
    "with torch.no_grad():\n",
    "    model.eval()\n",
    "    predictions = model(X_test)\n",
    "    test_loss = criterion(predictions, y_test) \n",
    "\n",
    "print(f'Test Loss: {test_loss.item()}')"
   ]
  }
 ],
 "metadata": {
  "kernelspec": {
   "display_name": "torch",
   "language": "python",
   "name": "python3"
  },
  "language_info": {
   "codemirror_mode": {
    "name": "ipython",
    "version": 3
   },
   "file_extension": ".py",
   "mimetype": "text/x-python",
   "name": "python",
   "nbconvert_exporter": "python",
   "pygments_lexer": "ipython3",
   "version": "3.12.2"
  }
 },
 "nbformat": 4,
 "nbformat_minor": 2
}
