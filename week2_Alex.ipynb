{
 "cells": [
  {
   "cell_type": "code",
   "execution_count": 118,
   "id": "5c57af6b-732b-4ffc-b0b3-fa7d4ad524df",
   "metadata": {},
   "outputs": [],
   "source": [
    "import io\n",
    "import torch\n",
    "import numpy as np\n",
    "import pandas as pd\n",
    "import torch.nn as nn\n",
    "import torch.optim as optim\n",
    "import sentencepiece as spm\n",
    "\n",
    "from gensim.models import Word2Vec\n",
    "from torch.utils.data import Dataset, DataLoader\n",
    "from sklearn.model_selection import train_test_split"
   ]
  },
  {
   "cell_type": "markdown",
   "id": "9a5dfddd",
   "metadata": {},
   "source": [
    "### Preprocess the Data"
   ]
  },
  {
   "cell_type": "code",
   "execution_count": 119,
   "id": "cd8c78dc",
   "metadata": {},
   "outputs": [],
   "source": [
    "def dataframe_sentence_generator(df):\n",
    "    for sentence in df:\n",
    "        yield sentence\n",
    "\n",
    "# Replace 'your_file.csv' with the path to your CSV file\n",
    "file_path = 'Dataset1000WithScore.txt'\n",
    "df = pd.read_csv(file_path, sep=';')\n",
    "\n",
    "# Split the data into training and test sets\n",
    "train_texts, test_texts, train_score, test_score = train_test_split(\n",
    "    df['title'], \n",
    "    df['score'], \n",
    "    test_size=0.2, \n",
    "    random_state=42\n",
    ")"
   ]
  },
  {
   "cell_type": "markdown",
   "id": "57ecfe48",
   "metadata": {},
   "source": [
    "### Train a SentencePiece Model"
   ]
  },
  {
   "cell_type": "code",
   "execution_count": 120,
   "id": "5ea7b960",
   "metadata": {},
   "outputs": [
    {
     "name": "stderr",
     "output_type": "stream",
     "text": [
      "sentencepiece_trainer.cc(78) LOG(INFO) Starts training with : \n",
      "trainer_spec {\n",
      "  input_format: \n",
      "  model_prefix: spm_Alex_week2\n",
      "  model_type: UNIGRAM\n",
      "  vocab_size: 2400\n",
      "  self_test_sample_size: 0\n",
      "  character_coverage: 0.9995\n",
      "  input_sentence_size: 0\n",
      "  shuffle_input_sentence: 1\n",
      "  seed_sentencepiece_size: 1000000\n",
      "  shrinking_factor: 0.75\n",
      "  max_sentence_length: 4192\n",
      "  num_threads: 16\n",
      "  num_sub_iterations: 2\n",
      "  max_sentencepiece_length: 16\n",
      "  split_by_unicode_script: 1\n",
      "  split_by_number: 1\n",
      "  split_by_whitespace: 1\n",
      "  split_digits: 0\n",
      "  pretokenization_delimiter: \n",
      "  treat_whitespace_as_suffix: 0\n",
      "  allow_whitespace_only_pieces: 0\n",
      "  required_chars: \n",
      "  byte_fallback: 0\n",
      "  vocabulary_output_piece_score: 1\n",
      "  train_extremely_large_corpus: 0\n",
      "  seed_sentencepieces_file: \n",
      "  hard_vocab_limit: 1\n",
      "  use_all_vocab: 0\n",
      "  unk_id: 0\n",
      "  bos_id: 1\n",
      "  eos_id: 2\n",
      "  pad_id: -1\n",
      "  unk_piece: <unk>\n",
      "  bos_piece: <s>\n",
      "  eos_piece: </s>\n",
      "  pad_piece: <pad>\n",
      "  unk_surface:  ⁇ \n",
      "  enable_differential_privacy: 0\n",
      "  differential_privacy_noise_level: 0\n",
      "  differential_privacy_clipping_threshold: 0\n",
      "}\n",
      "normalizer_spec {\n",
      "  name: nmt_nfkc\n",
      "  add_dummy_prefix: 1\n",
      "  remove_extra_whitespaces: 1\n",
      "  escape_whitespaces: 1\n",
      "  normalization_rule_tsv: \n",
      "}\n",
      "denormalizer_spec {}\n",
      "trainer_interface.cc(409) LOG(INFO) Loaded all 800 sentences\n",
      "trainer_interface.cc(425) LOG(INFO) Adding meta_piece: <unk>\n",
      "trainer_interface.cc(425) LOG(INFO) Adding meta_piece: <s>\n",
      "trainer_interface.cc(425) LOG(INFO) Adding meta_piece: </s>\n",
      "trainer_interface.cc(430) LOG(INFO) Normalizing sentences...\n",
      "trainer_interface.cc(539) LOG(INFO) all chars count=35374\n",
      "trainer_interface.cc(550) LOG(INFO) Done: 99.9519% characters are covered.\n",
      "trainer_interface.cc(560) LOG(INFO) Alphabet size=83\n",
      "trainer_interface.cc(561) LOG(INFO) Final character coverage=0.999519\n",
      "trainer_interface.cc(592) LOG(INFO) Done! preprocessed 800 sentences.\n",
      "unigram_model_trainer.cc(265) LOG(INFO) Making suffix array...\n",
      "unigram_model_trainer.cc(269) LOG(INFO) Extracting frequent sub strings... node_num=15772\n",
      "unigram_model_trainer.cc(312) LOG(INFO) Initialized 5929 seed sentencepieces\n",
      "trainer_interface.cc(598) LOG(INFO) Tokenizing input sentences with whitespace: 800\n",
      "trainer_interface.cc(609) LOG(INFO) Done! 3071\n",
      "unigram_model_trainer.cc(602) LOG(INFO) Using 3071 sentences for EM training\n",
      "unigram_model_trainer.cc(618) LOG(INFO) EM sub_iter=0 size=2697 obj=14.1621 num_tokens=6926 num_tokens/piece=2.56804\n",
      "unigram_model_trainer.cc(618) LOG(INFO) EM sub_iter=1 size=2438 obj=12.7731 num_tokens=6984 num_tokens/piece=2.86464\n",
      "trainer_interface.cc(687) LOG(INFO) Saving model: spm_Alex_week2.model\n",
      "trainer_interface.cc(699) LOG(INFO) Saving vocabs: spm_Alex_week2.vocab\n"
     ]
    },
    {
     "data": {
      "text/plain": [
       "True"
      ]
     },
     "execution_count": 120,
     "metadata": {},
     "output_type": "execute_result"
    }
   ],
   "source": [
    "spm.SentencePieceTrainer.train(\n",
    "    sentence_iterator=dataframe_sentence_generator(train_texts), \n",
    "    model_prefix='spm_Alex_week2', \n",
    "    vocab_size=2400\n",
    ")\n",
    "\n",
    "sp = spm.SentencePieceProcessor()\n",
    "sp.load('spm_Alex_week2.model')"
   ]
  },
  {
   "cell_type": "markdown",
   "id": "89ea4516",
   "metadata": {},
   "source": [
    "### Generate  Tokens"
   ]
  },
  {
   "cell_type": "code",
   "execution_count": 121,
   "id": "e54c0ce1",
   "metadata": {},
   "outputs": [],
   "source": [
    "tokenized_titles = [sp.encode_as_pieces(title) for title in train_texts]"
   ]
  },
  {
   "cell_type": "markdown",
   "id": "46f04e9f",
   "metadata": {},
   "source": [
    "### Use Word2Vec to Generate Embeddings"
   ]
  },
  {
   "cell_type": "code",
   "execution_count": 122,
   "id": "441a9fc4",
   "metadata": {},
   "outputs": [],
   "source": [
    "vector_size = 100\n",
    "w2v_model = Word2Vec(\n",
    "    sentences=tokenized_titles, \n",
    "    vector_size=vector_size, \n",
    "    window=5, \n",
    "    min_count=1, \n",
    "    workers=4\n",
    ")"
   ]
  },
  {
   "cell_type": "code",
   "execution_count": 129,
   "id": "2b3129d5",
   "metadata": {},
   "outputs": [],
   "source": [
    "def title_to_embedding(sp, title, vector_size):\n",
    "    tokens = sp.encode_as_pieces(title)\n",
    "    embeddings = [w2v_model.wv[token] for token in tokens if token in w2v_model.wv]\n",
    "\n",
    "    if embeddings:\n",
    "        return np.mean(embeddings, axis=0)\n",
    "    else:\n",
    "        return np.zeros(vector_size)"
   ]
  },
  {
   "cell_type": "markdown",
   "id": "88d8f7d4",
   "metadata": {},
   "source": [
    "### Create a PyTorch Dataset"
   ]
  },
  {
   "cell_type": "code",
   "execution_count": 156,
   "id": "912c92e6",
   "metadata": {},
   "outputs": [
    {
     "name": "stdout",
     "output_type": "stream",
     "text": [
      "<class 'numpy.ndarray'>\n"
     ]
    }
   ],
   "source": [
    "embeddings = np.empty((len(train_texts), vector_size), dtype=np.float64)\n",
    "\n",
    "for idx, title in enumerate(train_texts):\n",
    "    embeddings[idx] = title_to_embedding(sp, title, vector_size)\n",
    "    \n",
    "print(type(embeddings))"
   ]
  },
  {
   "cell_type": "code",
   "execution_count": 160,
   "id": "bb33adb1",
   "metadata": {},
   "outputs": [
    {
     "name": "stdout",
     "output_type": "stream",
     "text": [
      "tensor([[-0.0090,  0.0219,  0.0059,  ..., -0.0119, -0.0043,  0.0002],\n",
      "        [-0.0099,  0.0221, -0.0010,  ..., -0.0153, -0.0025, -0.0065],\n",
      "        [-0.0105,  0.0204,  0.0022,  ..., -0.0149,  0.0009, -0.0042],\n",
      "        ...,\n",
      "        [-0.0084,  0.0145,  0.0022,  ..., -0.0075, -0.0030, -0.0046],\n",
      "        [-0.0114,  0.0178,  0.0005,  ..., -0.0124, -0.0002, -0.0019],\n",
      "        [-0.0136,  0.0270,  0.0036,  ..., -0.0168, -0.0012,  0.0006]],\n",
      "       dtype=torch.float64)\n",
      "[[-0.00897185  0.02188748  0.00587505 ... -0.01191749 -0.00431119\n",
      "   0.00019266]\n",
      " [-0.00989507  0.02214914 -0.00102099 ... -0.01534402 -0.00249354\n",
      "  -0.00648603]\n",
      " [-0.0105211   0.0203801   0.0021798  ... -0.0148694   0.00089716\n",
      "  -0.00415677]\n",
      " ...\n",
      " [-0.00839692  0.01446246  0.00217176 ... -0.00753136 -0.00299297\n",
      "  -0.00461253]\n",
      " [-0.01144713  0.01782822  0.00053025 ... -0.0123812  -0.00016564\n",
      "  -0.00191025]\n",
      " [-0.01355701  0.02695094  0.00358522 ... -0.01676181 -0.00117642\n",
      "   0.000595  ]]\n"
     ]
    }
   ],
   "source": [
    "\n",
    "input_embeddings_tensor = torch.from_numpy(embeddings)\n",
    "print(input_embeddings_tensor)\n",
    "print(embeddings)"
   ]
  },
  {
   "cell_type": "code",
   "execution_count": null,
   "id": "fee3160d",
   "metadata": {},
   "outputs": [],
   "source": [
    "\n",
    "class NewsDataset(Dataset):\n",
    "    def __init__(self, titles, score, sp, vector_size):\n",
    "        self.titles = titles\n",
    "        self.score = score\n",
    "        self.vector_size = vector_size\n",
    "\n",
    "    def __len__(self):\n",
    "        return len(self.titles)\n",
    "\n",
    "    def __getitem__(self, idx):\n",
    "        title_embedding = title_to_embedding(sp, self.titles.iloc[idx], self.vector_size)\n",
    "        score = self.score.iloc[idx]\n",
    "        return torch.tensor(title_embedding, dtype=torch.float), torch.tensor(score, dtype=torch.float)"
   ]
  },
  {
   "cell_type": "code",
   "execution_count": 135,
   "id": "73aaf1a6",
   "metadata": {},
   "outputs": [],
   "source": [
    "TrainDataset = NewsDataset(train_texts, train_score, sp, vector_size)\n",
    "TrainLoader = DataLoader(TrainDataset, batch_size=16, shuffle=True)"
   ]
  },
  {
   "cell_type": "markdown",
   "id": "d21e674a",
   "metadata": {},
   "source": [
    "### Define and Train the Neural Network"
   ]
  },
  {
   "cell_type": "code",
   "execution_count": 131,
   "id": "86ab8c93",
   "metadata": {},
   "outputs": [],
   "source": [
    "class VotesPredictor(nn.Module):\n",
    "    def __init__(self):\n",
    "        super(VotesPredictor, self).__init__()\n",
    "        self.fc = nn.Sequential(\n",
    "            nn.Linear(100, 50),\n",
    "            nn.ReLU(),\n",
    "            nn.Linear(50, 1)\n",
    "        )\n",
    "    \n",
    "    def forward(self, x):\n",
    "        return self.fc(x)"
   ]
  },
  {
   "cell_type": "code",
   "execution_count": 137,
   "id": "879a82ee",
   "metadata": {},
   "outputs": [],
   "source": [
    "Model = VotesPredictor()\n",
    "criterion = nn.MSELoss()\n",
    "optimizer = optim.Adam(Model.parameters(), lr=0.01)"
   ]
  },
  {
   "cell_type": "code",
   "execution_count": 138,
   "id": "262b991b",
   "metadata": {},
   "outputs": [
    {
     "name": "stdout",
     "output_type": "stream",
     "text": [
      "Epoch 1, Loss: 18.947511672973633\n",
      "Epoch 2, Loss: 13.208354949951172\n",
      "Epoch 3, Loss: 33.680416107177734\n",
      "Epoch 4, Loss: 1834.595947265625\n",
      "Epoch 5, Loss: 333.9202575683594\n",
      "Epoch 6, Loss: 173.79379272460938\n",
      "Epoch 7, Loss: 17.589494705200195\n",
      "Epoch 8, Loss: 15.28741455078125\n",
      "Epoch 9, Loss: 643.418701171875\n",
      "Epoch 10, Loss: 113.61872863769531\n",
      "Epoch 11, Loss: 215.33375549316406\n",
      "Epoch 12, Loss: 22.551467895507812\n",
      "Epoch 13, Loss: 181.5155029296875\n",
      "Epoch 14, Loss: 114.51161193847656\n",
      "Epoch 15, Loss: 110.3350830078125\n",
      "Epoch 16, Loss: 32.165184020996094\n",
      "Epoch 17, Loss: 14.471490859985352\n",
      "Epoch 18, Loss: 31.956567764282227\n",
      "Epoch 19, Loss: 283.3117980957031\n",
      "Epoch 20, Loss: 55.41526412963867\n",
      "Epoch 21, Loss: 571.264404296875\n",
      "Epoch 22, Loss: 119.49076080322266\n",
      "Epoch 23, Loss: 525.5765991210938\n",
      "Epoch 24, Loss: 63.93572235107422\n",
      "Epoch 25, Loss: 55.49064254760742\n",
      "Epoch 26, Loss: 165.920654296875\n",
      "Epoch 27, Loss: 18.61789321899414\n",
      "Epoch 28, Loss: 20.971588134765625\n",
      "Epoch 29, Loss: 666.3204345703125\n",
      "Epoch 30, Loss: 1942.951416015625\n",
      "Epoch 31, Loss: 157.68899536132812\n",
      "Epoch 32, Loss: 132.0727996826172\n",
      "Epoch 33, Loss: 184.3104248046875\n",
      "Epoch 34, Loss: 16.984710693359375\n",
      "Epoch 35, Loss: 67.54026794433594\n",
      "Epoch 36, Loss: 104.68480682373047\n",
      "Epoch 37, Loss: 24.499614715576172\n",
      "Epoch 38, Loss: 172.57240295410156\n",
      "Epoch 39, Loss: 1885.8597412109375\n",
      "Epoch 40, Loss: 103.94186401367188\n",
      "Epoch 41, Loss: 139.23129272460938\n",
      "Epoch 42, Loss: 22.617877960205078\n",
      "Epoch 43, Loss: 42.50697326660156\n",
      "Epoch 44, Loss: 570.6826171875\n",
      "Epoch 45, Loss: 528.7156372070312\n",
      "Epoch 46, Loss: 33.076080322265625\n",
      "Epoch 47, Loss: 35.79179763793945\n",
      "Epoch 48, Loss: 21.521015167236328\n",
      "Epoch 49, Loss: 122.43170928955078\n",
      "Epoch 50, Loss: 30.272279739379883\n",
      "Epoch 51, Loss: 18.055315017700195\n",
      "Epoch 52, Loss: 89.44524383544922\n",
      "Epoch 53, Loss: 38.844669342041016\n",
      "Epoch 54, Loss: 25.312286376953125\n",
      "Epoch 55, Loss: 16.680400848388672\n",
      "Epoch 56, Loss: 22.141000747680664\n",
      "Epoch 57, Loss: 90.23759460449219\n",
      "Epoch 58, Loss: 108.53424072265625\n",
      "Epoch 59, Loss: 166.2734832763672\n",
      "Epoch 60, Loss: 325.0528869628906\n",
      "Epoch 61, Loss: 59.88844680786133\n",
      "Epoch 62, Loss: 13.991374015808105\n",
      "Epoch 63, Loss: 88.24258422851562\n",
      "Epoch 64, Loss: 30.106197357177734\n",
      "Epoch 65, Loss: 87.03741455078125\n",
      "Epoch 66, Loss: 36.260284423828125\n",
      "Epoch 67, Loss: 116.04664611816406\n",
      "Epoch 68, Loss: 204.02513122558594\n",
      "Epoch 69, Loss: 38.620445251464844\n",
      "Epoch 70, Loss: 139.1292266845703\n",
      "Epoch 71, Loss: 537.2373046875\n",
      "Epoch 72, Loss: 72.98904418945312\n",
      "Epoch 73, Loss: 46.7283821105957\n",
      "Epoch 74, Loss: 106.79596710205078\n",
      "Epoch 75, Loss: 35.81550979614258\n",
      "Epoch 76, Loss: 143.65444946289062\n",
      "Epoch 77, Loss: 19.55402374267578\n",
      "Epoch 78, Loss: 16.279787063598633\n",
      "Epoch 79, Loss: 18.22786521911621\n",
      "Epoch 80, Loss: 134.57858276367188\n",
      "Epoch 81, Loss: 85.92742156982422\n",
      "Epoch 82, Loss: 327.1461181640625\n",
      "Epoch 83, Loss: 94.88723754882812\n",
      "Epoch 84, Loss: 63.939876556396484\n",
      "Epoch 85, Loss: 21.315872192382812\n",
      "Epoch 86, Loss: 236.7206573486328\n",
      "Epoch 87, Loss: 49.466270446777344\n",
      "Epoch 88, Loss: 64.58326721191406\n",
      "Epoch 89, Loss: 49.159019470214844\n",
      "Epoch 90, Loss: 50.19761657714844\n",
      "Epoch 91, Loss: 23.42626953125\n",
      "Epoch 92, Loss: 28.92368507385254\n",
      "Epoch 93, Loss: 23.574535369873047\n",
      "Epoch 94, Loss: 580.966796875\n",
      "Epoch 95, Loss: 25.1235294342041\n",
      "Epoch 96, Loss: 97.13531494140625\n",
      "Epoch 97, Loss: 66.60313415527344\n",
      "Epoch 98, Loss: 19.31121063232422\n",
      "Epoch 99, Loss: 1122.7122802734375\n",
      "Epoch 100, Loss: 88.92828369140625\n"
     ]
    }
   ],
   "source": [
    "# Training loop\n",
    "for epoch in range(100):  # Number of epochs\n",
    "    for title_embedding, score in TrainLoader:\n",
    "        optimizer.zero_grad()\n",
    "        outputs = Model(title_embedding)\n",
    "        loss = criterion(outputs.squeeze(), score)\n",
    "        loss.backward()\n",
    "        optimizer.step()\n",
    "    print(f'Epoch {epoch+1}, Loss: {loss.item()}')"
   ]
  },
  {
   "cell_type": "code",
   "execution_count": 139,
   "id": "eb1a7cbb",
   "metadata": {},
   "outputs": [],
   "source": [
    "# Define the model\n",
    "Model = nn.Sequential(\n",
    "    nn.Linear(vector_size, 50),\n",
    "    nn.ReLU(),\n",
    "    nn.Linear(50, 1)\n",
    ")\n",
    "\n",
    "# Set the criterion\n",
    "criterion = nn.MSELoss()\n",
    "\n",
    "# Choose the optimizer\n",
    "optimizer = optim.Adam(Model.parameters(), lr=0.001)\n",
    "\n",
    "\n",
    "inputs = torch.randn(100, 100)\n",
    "targets = torch.randn(100, 1)"
   ]
  },
  {
   "cell_type": "code",
   "execution_count": null,
   "id": "40286ed2",
   "metadata": {},
   "outputs": [],
   "source": [
    "epochs = 1000\n",
    "for epoch in range(1, epochs + 1):\n",
    "    # Zero the gradients\n",
    "    optimizer.zero_grad()\n",
    "    \n",
    "    # Forward pass\n",
    "    outputs = Model(inputs)\n",
    "    \n",
    "    # Calculate loss\n",
    "    loss = criterion(outputs, targets)\n",
    "    \n",
    "    # Backward pass and optimize\n",
    "    loss.backward()\n",
    "    optimizer.step()\n",
    "    \n",
    "    # Print loss every 100 epochs\n",
    "    if epoch % 100 == 0:\n",
    "        print(f'Epoch [{epoch}/{epochs}], Loss: {loss.item()}')"
   ]
  }
 ],
 "metadata": {
  "kernelspec": {
   "display_name": "Python 3 (ipykernel)",
   "language": "python",
   "name": "python3"
  },
  "language_info": {
   "codemirror_mode": {
    "name": "ipython",
    "version": 3
   },
   "file_extension": ".py",
   "mimetype": "text/x-python",
   "name": "python",
   "nbconvert_exporter": "python",
   "pygments_lexer": "ipython3",
   "version": "3.11.8"
  }
 },
 "nbformat": 4,
 "nbformat_minor": 5
}
