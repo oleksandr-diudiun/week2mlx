{
 "cells": [
  {
   "cell_type": "markdown",
   "metadata": {},
   "source": [
    "Imports"
   ]
  },
  {
   "cell_type": "code",
   "execution_count": 61,
   "metadata": {},
   "outputs": [],
   "source": [
    "# Data Processing Modules\n",
    "import pandas as pd\n",
    "import numpy as np\n",
    "import matplotlib.pyplot as plt\n",
    "import seaborn as sns\n",
    "\n",
    "\n",
    "# SentencePiece\n",
    "import sentencepiece as spm\n",
    "\n",
    "# Word2Vec\n",
    "from gensim.models import Word2Vec\n",
    "\n",
    "# Model Evaluation\n",
    "from sklearn.model_selection import train_test_split\n",
    "from sklearn.preprocessing import StandardScaler\n",
    "\n",
    "# Model Creation\n",
    "import torch\n",
    "import torch.nn as nn\n",
    "import torch.nn.functional as F\n",
    "from torch.utils.data import DataLoader, TensorDataset\n",
    "import torch.optim as optim\n",
    "\n",
    "import gensim.downloader as api"
   ]
  },
  {
   "cell_type": "code",
   "execution_count": 62,
   "metadata": {},
   "outputs": [],
   "source": [
    "glove_model = api.load(\"glove-twitter-25\")"
   ]
  },
  {
   "cell_type": "code",
   "execution_count": 63,
   "metadata": {},
   "outputs": [],
   "source": [
    "def get_avg_vector_for_sent_glove(tokens, model):\n",
    "    '''Uses the GloVe model to get the vector representation of the tokens \n",
    "       in a sentence and takes the mean.'''\n",
    "    vector = np.zeros(model.vector_size)\n",
    "    num_tokens = 0\n",
    "    for token in tokens:\n",
    "        if token in model.key_to_index:  # Checking if the token is in the GloVe vocabulary\n",
    "            vector += model.get_vector(token)\n",
    "            num_tokens += 1\n",
    "    if num_tokens > 0:\n",
    "        vector /= num_tokens\n",
    "    return vector\n",
    "    \n",
    "def sentence_to_vector_glove(sentence, model):\n",
    "    '''Returns the vector representation of a sentence\n",
    "       by taking the average of the GloVe representations of the words.'''\n",
    "    tokens = sp.encode_as_pieces(sentence)  # Assuming you are still using SentencePiece for tokenization\n",
    "    vector = get_avg_vector_for_sent_glove(tokens, model)\n",
    "    return vector\n"
   ]
  },
  {
   "cell_type": "code",
   "execution_count": 64,
   "metadata": {},
   "outputs": [
    {
     "data": {
      "text/plain": [
       "'2.3.0.dev20240312'"
      ]
     },
     "execution_count": 64,
     "metadata": {},
     "output_type": "execute_result"
    }
   ],
   "source": [
    "torch.__version__  "
   ]
  },
  {
   "cell_type": "markdown",
   "metadata": {},
   "source": [
    "Check model is set to CUDA / MPS"
   ]
  },
  {
   "cell_type": "code",
   "execution_count": 65,
   "metadata": {},
   "outputs": [
    {
     "name": "stdout",
     "output_type": "stream",
     "text": [
      "cpu\n"
     ]
    }
   ],
   "source": [
    "device = torch.device(\"cuda\" if torch.cuda.is_available() else \"cpu\")\n",
    "print(device)"
   ]
  },
  {
   "cell_type": "code",
   "execution_count": 66,
   "metadata": {},
   "outputs": [],
   "source": [
    "# if torch.backends.mps.is_available(): # TODO: Handle CUDA\n",
    "#     mps_device = torch.device(\"mps\")\n",
    "#     x = torch.ones(1, device=mps_device)\n",
    "#     print (x)\n",
    "# else:\n",
    "#     print (\"MPS device not found.\")"
   ]
  },
  {
   "cell_type": "markdown",
   "metadata": {},
   "source": [
    "Load Dataset"
   ]
  },
  {
   "cell_type": "code",
   "execution_count": 67,
   "metadata": {},
   "outputs": [],
   "source": [
    "file_path = './data/TitlesAndScoreALL.csv'\n",
    "data_df = pd.read_csv(file_path, sep=',')"
   ]
  },
  {
   "cell_type": "code",
   "execution_count": 68,
   "metadata": {},
   "outputs": [],
   "source": [
    "data_df['title'] = data_df['title'].str.lower()"
   ]
  },
  {
   "cell_type": "code",
   "execution_count": 69,
   "metadata": {},
   "outputs": [
    {
     "name": "stderr",
     "output_type": "stream",
     "text": [
      "sentencepiece_trainer.cc(77) LOG(INFO) Starts training with : \n",
      "trainer_spec {\n",
      "  input_format: \n",
      "  model_prefix: ./data/spm_model\n",
      "  model_type: UNIGRAM\n",
      "  vocab_size: 12828\n",
      "  self_test_sample_size: 0\n",
      "  character_coverage: 0.9995\n",
      "  input_sentence_size: 0\n",
      "  shuffle_input_sentence: 1\n",
      "  seed_sentencepiece_size: 1000000\n",
      "  shrinking_factor: 0.75\n",
      "  max_sentence_length: 4192\n",
      "  num_threads: 16\n",
      "  num_sub_iterations: 2\n",
      "  max_sentencepiece_length: 16\n",
      "  split_by_unicode_script: 1\n",
      "  split_by_number: 1\n",
      "  split_by_whitespace: 1\n",
      "  split_digits: 0\n",
      "  pretokenization_delimiter: \n",
      "  treat_whitespace_as_suffix: 0\n",
      "  allow_whitespace_only_pieces: 0\n",
      "  required_chars: \n",
      "  byte_fallback: 0\n",
      "  vocabulary_output_piece_score: 1\n",
      "  train_extremely_large_corpus: 0\n",
      "  hard_vocab_limit: 1\n",
      "  use_all_vocab: 0\n",
      "  unk_id: 0\n",
      "  bos_id: 1\n",
      "  eos_id: 2\n",
      "  pad_id: -1\n",
      "  unk_piece: <unk>\n",
      "  bos_piece: <s>\n",
      "  eos_piece: </s>\n",
      "  pad_piece: <pad>\n",
      "  unk_surface:  ⁇ \n",
      "  enable_differential_privacy: 0\n",
      "  differential_privacy_noise_level: 0\n",
      "  differential_privacy_clipping_threshold: 0\n",
      "}\n",
      "normalizer_spec {\n",
      "  name: nmt_nfkc\n",
      "  add_dummy_prefix: 1\n",
      "  remove_extra_whitespaces: 1\n",
      "  escape_whitespaces: 1\n",
      "  normalization_rule_tsv: \n",
      "}\n",
      "denormalizer_spec {}\n",
      "trainer_interface.cc(407) LOG(INFO) Loaded all 165806 sentences\n",
      "trainer_interface.cc(423) LOG(INFO) Adding meta_piece: <unk>\n",
      "trainer_interface.cc(423) LOG(INFO) Adding meta_piece: <s>\n",
      "trainer_interface.cc(423) LOG(INFO) Adding meta_piece: </s>\n",
      "trainer_interface.cc(428) LOG(INFO) Normalizing sentences...\n",
      "trainer_interface.cc(537) LOG(INFO) all chars count=7517655\n",
      "trainer_interface.cc(548) LOG(INFO) Done: 99.9502% characters are covered.\n",
      "trainer_interface.cc(558) LOG(INFO) Alphabet size=71\n",
      "trainer_interface.cc(559) LOG(INFO) Final character coverage=0.999502\n",
      "trainer_interface.cc(591) LOG(INFO) Done! preprocessed 165803 sentences.\n",
      "unigram_model_trainer.cc(222) LOG(INFO) Making suffix array...\n",
      "unigram_model_trainer.cc(226) LOG(INFO) Extracting frequent sub strings... node_num=3697169\n",
      "unigram_model_trainer.cc(274) LOG(INFO) Initialized 141478 seed sentencepieces\n",
      "trainer_interface.cc(597) LOG(INFO) Tokenizing input sentences with whitespace: 165803\n",
      "trainer_interface.cc(608) LOG(INFO) Done! 108771\n",
      "unigram_model_trainer.cc(564) LOG(INFO) Using 108771 sentences for EM training\n",
      "unigram_model_trainer.cc(580) LOG(INFO) EM sub_iter=0 size=47586 obj=11.8531 num_tokens=238548 num_tokens/piece=5.01299\n",
      "unigram_model_trainer.cc(580) LOG(INFO) EM sub_iter=1 size=42091 obj=9.59311 num_tokens=239674 num_tokens/piece=5.69419\n",
      "unigram_model_trainer.cc(580) LOG(INFO) EM sub_iter=0 size=31563 obj=9.58907 num_tokens=251401 num_tokens/piece=7.96505\n",
      "unigram_model_trainer.cc(580) LOG(INFO) EM sub_iter=1 size=31554 obj=9.56981 num_tokens=251662 num_tokens/piece=7.9756\n",
      "unigram_model_trainer.cc(580) LOG(INFO) EM sub_iter=0 size=23665 obj=9.66656 num_tokens=267852 num_tokens/piece=11.3185\n",
      "unigram_model_trainer.cc(580) LOG(INFO) EM sub_iter=1 size=23665 obj=9.64193 num_tokens=267886 num_tokens/piece=11.3199\n",
      "unigram_model_trainer.cc(580) LOG(INFO) EM sub_iter=0 size=17748 obj=9.78372 num_tokens=285958 num_tokens/piece=16.1121\n",
      "unigram_model_trainer.cc(580) LOG(INFO) EM sub_iter=1 size=17747 obj=9.75454 num_tokens=285954 num_tokens/piece=16.1128\n",
      "unigram_model_trainer.cc(580) LOG(INFO) EM sub_iter=0 size=14110 obj=9.89245 num_tokens=301369 num_tokens/piece=21.3585\n",
      "unigram_model_trainer.cc(580) LOG(INFO) EM sub_iter=1 size=14110 obj=9.86418 num_tokens=301368 num_tokens/piece=21.3585\n",
      "trainer_interface.cc(686) LOG(INFO) Saving model: ./data/spm_model.model\n",
      "trainer_interface.cc(698) LOG(INFO) Saving vocabs: ./data/spm_model.vocab\n"
     ]
    }
   ],
   "source": [
    "def dataframe_sentence_generator(df):\n",
    "    for sentence in df:\n",
    "        yield sentence\n",
    "        \n",
    "spm.SentencePieceTrainer.train(\n",
    "    sentence_iterator=dataframe_sentence_generator(data_df['title']), \n",
    "    vocab_size=12_828,\n",
    "    model_prefix='./data/spm_model', \n",
    "    model_type='unigram',\n",
    ")\n",
    "\n",
    "sp = spm.SentencePieceProcessor()"
   ]
  },
  {
   "cell_type": "markdown",
   "metadata": {},
   "source": [
    "Load the SentencePiece model"
   ]
  },
  {
   "cell_type": "code",
   "execution_count": 70,
   "metadata": {},
   "outputs": [
    {
     "data": {
      "text/plain": [
       "True"
      ]
     },
     "execution_count": 70,
     "metadata": {},
     "output_type": "execute_result"
    }
   ],
   "source": [
    "sp.load('./data/spm_model.model')"
   ]
  },
  {
   "cell_type": "markdown",
   "metadata": {},
   "source": [
    "Tokenizer"
   ]
  },
  {
   "cell_type": "code",
   "execution_count": 71,
   "metadata": {},
   "outputs": [],
   "source": [
    "def get_sentence_tokens(sentence):\n",
    "    '''Gets the word tokens of a given sentence by tokenising'''\n",
    "    tokens = sp.encode_as_pieces(sentence)\n",
    "    return tokens\n",
    "\n",
    "def get_avg_vector_for_sent(tokens, model):\n",
    "    '''Uses the Word2Vec LUT to get the vector representation of a tokens \n",
    "       in a sentence and takes the mean'''\n",
    "    vector = np.zeros(model.vector_size)\n",
    "    for token in tokens:\n",
    "        if token in model.wv:\n",
    "            vector += model.wv[token]\n",
    "    if len(tokens) > 0: \n",
    "        vector /= len(tokens)\n",
    "    return vector\n",
    "    \n",
    "def sentence_to_vector(sentence, model):\n",
    "    '''Returns the vector representation of a sentence\n",
    "       by taking the average of the Word2Vec representations of the \n",
    "       words / subwords'''\n",
    "    tokens = get_sentence_tokens(sentence)\n",
    "    vector = get_avg_vector_for_sent(tokens, model)\n",
    "    return vector\n"
   ]
  },
  {
   "cell_type": "code",
   "execution_count": 72,
   "metadata": {},
   "outputs": [],
   "source": [
    "word_dimensionality = 25"
   ]
  },
  {
   "cell_type": "code",
   "execution_count": 73,
   "metadata": {},
   "outputs": [],
   "source": [
    "# class Word2Vec: # TODO: Define custom Word2Vec class\n",
    "#     def __init__(sentences=tokens_list, vector_size=word_dimensionality, window=5, min_count=1, workers=4):\n",
    "#         pass"
   ]
  },
  {
   "cell_type": "code",
   "execution_count": 74,
   "metadata": {},
   "outputs": [],
   "source": [
    "# Create a scaler object\n",
    "# scaler = StandardScaler()\n",
    "\n",
    "# Fit the scaler to the data and transform the data\n",
    "# data_df['score'] = scaler.fit_transform(data_df[['score']])"
   ]
  },
  {
   "cell_type": "code",
   "execution_count": 75,
   "metadata": {},
   "outputs": [],
   "source": [
    "# tokenized_titles = [sp.encode_as_pieces(title) for title in data_df['title']]\n",
    "# word2vec_model = Word2Vec(sentences=tokenized_titles, vector_size=word_dimensionality, window=5, min_count=1, workers=4)\n",
    "# data_df['sentence_vector'] = data_df['title'].apply(lambda x: sentence_to_vector(x, word2vec_model))"
   ]
  },
  {
   "cell_type": "code",
   "execution_count": 76,
   "metadata": {},
   "outputs": [],
   "source": [
    "# Assuming data_df is your DataFrame and it contains a column 'title'\n",
    "data_df['sentence_vector'] = data_df['title'].apply(lambda x: sentence_to_vector_glove(x, glove_model))\n"
   ]
  },
  {
   "cell_type": "code",
   "execution_count": 77,
   "metadata": {},
   "outputs": [],
   "source": [
    "# Printing the path to the downloaded GloVe model for verification\n",
    "# glove_path = api.load('glove-wiki-gigaword-50', return_path=True)\n",
    "# print(glove_path)"
   ]
  },
  {
   "cell_type": "code",
   "execution_count": 78,
   "metadata": {},
   "outputs": [
    {
     "data": {
      "text/html": [
       "<div>\n",
       "<style scoped>\n",
       "    .dataframe tbody tr th:only-of-type {\n",
       "        vertical-align: middle;\n",
       "    }\n",
       "\n",
       "    .dataframe tbody tr th {\n",
       "        vertical-align: top;\n",
       "    }\n",
       "\n",
       "    .dataframe thead th {\n",
       "        text-align: right;\n",
       "    }\n",
       "</style>\n",
       "<table border=\"1\" class=\"dataframe\">\n",
       "  <thead>\n",
       "    <tr style=\"text-align: right;\">\n",
       "      <th></th>\n",
       "      <th>id</th>\n",
       "      <th>title</th>\n",
       "      <th>score</th>\n",
       "      <th>sentence_vector</th>\n",
       "    </tr>\n",
       "  </thead>\n",
       "  <tbody>\n",
       "    <tr>\n",
       "      <th>0</th>\n",
       "      <td>442106</td>\n",
       "      <td>for peruvians, baskets for the u.s. market bri...</td>\n",
       "      <td>1</td>\n",
       "      <td>[0.6605812571942806, -0.21765875816345215, -0....</td>\n",
       "    </tr>\n",
       "    <tr>\n",
       "      <th>1</th>\n",
       "      <td>442112</td>\n",
       "      <td>wsj.com : president obama's inaugural address</td>\n",
       "      <td>1</td>\n",
       "      <td>[0.8612800166010857, -0.6965750232338905, 0.06...</td>\n",
       "    </tr>\n",
       "    <tr>\n",
       "      <th>2</th>\n",
       "      <td>551087</td>\n",
       "      <td>smart way to share psd files using diff and patch</td>\n",
       "      <td>1</td>\n",
       "      <td>[0.0, 0.0, 0.0, 0.0, 0.0, 0.0, 0.0, 0.0, 0.0, ...</td>\n",
       "    </tr>\n",
       "    <tr>\n",
       "      <th>3</th>\n",
       "      <td>551119</td>\n",
       "      <td>download yahoo messenger for iphone</td>\n",
       "      <td>1</td>\n",
       "      <td>[0.0, 0.0, 0.0, 0.0, 0.0, 0.0, 0.0, 0.0, 0.0, ...</td>\n",
       "    </tr>\n",
       "    <tr>\n",
       "      <th>4</th>\n",
       "      <td>551165</td>\n",
       "      <td>reinventing the conference call</td>\n",
       "      <td>1</td>\n",
       "      <td>[0.5053399801254272, 0.958899974822998, 0.2512...</td>\n",
       "    </tr>\n",
       "  </tbody>\n",
       "</table>\n",
       "</div>"
      ],
      "text/plain": [
       "       id                                              title  score  \\\n",
       "0  442106  for peruvians, baskets for the u.s. market bri...      1   \n",
       "1  442112      wsj.com : president obama's inaugural address      1   \n",
       "2  551087  smart way to share psd files using diff and patch      1   \n",
       "3  551119                download yahoo messenger for iphone      1   \n",
       "4  551165                    reinventing the conference call      1   \n",
       "\n",
       "                                     sentence_vector  \n",
       "0  [0.6605812571942806, -0.21765875816345215, -0....  \n",
       "1  [0.8612800166010857, -0.6965750232338905, 0.06...  \n",
       "2  [0.0, 0.0, 0.0, 0.0, 0.0, 0.0, 0.0, 0.0, 0.0, ...  \n",
       "3  [0.0, 0.0, 0.0, 0.0, 0.0, 0.0, 0.0, 0.0, 0.0, ...  \n",
       "4  [0.5053399801254272, 0.958899974822998, 0.2512...  "
      ]
     },
     "execution_count": 78,
     "metadata": {},
     "output_type": "execute_result"
    }
   ],
   "source": [
    "data_df.head()"
   ]
  },
  {
   "cell_type": "code",
   "execution_count": 79,
   "metadata": {},
   "outputs": [
    {
     "data": {
      "text/plain": [
       "(25,)"
      ]
     },
     "execution_count": 79,
     "metadata": {},
     "output_type": "execute_result"
    }
   ],
   "source": [
    "data_df['sentence_vector'][0].shape"
   ]
  },
  {
   "cell_type": "markdown",
   "metadata": {},
   "source": [
    "Train Test Split"
   ]
  },
  {
   "cell_type": "code",
   "execution_count": 80,
   "metadata": {},
   "outputs": [],
   "source": [
    "# Split the data into training and test sets\n",
    "X_train, X_test_and_val, y_train, y_test_and_val = train_test_split(\n",
    "    data_df['sentence_vector'].tolist(), \n",
    "    data_df['score'], \n",
    "    test_size=0.3, \n",
    "    random_state=42\n",
    ")\n",
    "\n",
    "X_test, X_val, y_test, y_val = train_test_split(\n",
    "    X_test_and_val, \n",
    "    y_test_and_val, \n",
    "    test_size=0.5, \n",
    "    random_state=42\n",
    ")"
   ]
  },
  {
   "cell_type": "code",
   "execution_count": 81,
   "metadata": {},
   "outputs": [],
   "source": [
    "X_train = torch.tensor(np.vstack(X_train), dtype=torch.float32).to(device)\n",
    "y_train = torch.tensor(np.array(y_train), dtype=torch.float32).view(-1, 1).to(device)\n",
    "\n",
    "X_val = torch.tensor(np.vstack(X_val), dtype=torch.float32).to(device)\n",
    "y_val = torch.tensor(np.array(y_val), dtype=torch.float32).view(-1, 1).to(device)\n",
    "\n",
    "X_test = torch.tensor(np.vstack(X_test), dtype=torch.float32).to(device)\n",
    "y_test = torch.tensor(np.array(y_test), dtype=torch.float32).view(-1, 1).to(device)\n"
   ]
  },
  {
   "cell_type": "markdown",
   "metadata": {},
   "source": [
    "Model"
   ]
  },
  {
   "cell_type": "code",
   "execution_count": 82,
   "metadata": {},
   "outputs": [],
   "source": [
    "class UpvotesPredictorNN(nn.Module):\n",
    "    def __init__(self, dropout_rate=0.5):\n",
    "        super(UpvotesPredictorNN, self).__init__()\n",
    "        \n",
    "        # Input layer to 1st hidden layer\n",
    "        self.fc1 = nn.Linear(word_dimensionality, 128)\n",
    "        self.relu1 = nn.ReLU()\n",
    "        \n",
    "        # 1st hidden layer to 2nd hidden layer\n",
    "        self.fc2 = nn.Linear(128, 32)\n",
    "        self.relu2 = nn.ReLU()\n",
    "        \n",
    "        # 2nd hidden layer to output layer\n",
    "        self.output = nn.Linear(32, 1)\n",
    "        \n",
    "    def forward(self, x):\n",
    "        x = self.relu1(self.fc1(x))\n",
    "        x = self.relu2(self.fc2(x))\n",
    "        output = self.output(x)\n",
    "        return output"
   ]
  },
  {
   "cell_type": "code",
   "execution_count": 83,
   "metadata": {},
   "outputs": [],
   "source": [
    "# # Define model and hyperparameters\n",
    "# model = UpvotesPredictorNN().to(device)\n",
    "# criterion = nn.MSELoss()\n",
    "# num_epochs = 500\n",
    "# optimizer = optim.Adam(model.parameters(), lr=0.01)\n",
    "\n",
    "# # Batching\n",
    "# batch_size = 64\n",
    "\n",
    "# train_dataset = TensorDataset(X_train, y_train)  \n",
    "# train_loader = DataLoader(train_dataset, batch_size=batch_size, shuffle=True)\n",
    "\n",
    "# val_dataset = TensorDataset(X_val, y_val)\n",
    "# val_loader = DataLoader(TensorDataset(X_val, y_val), batch_size=batch_size, shuffle=False)\n",
    "\n",
    "\n",
    "\n",
    "# # Storage object for data vis\n",
    "# list_of_lists = []\n",
    "\n",
    "# # Training loop\n",
    "# for epoch in range(num_epochs):\n",
    "#     # Set model to training mode\n",
    "#     model.train()\n",
    "#     for batch_idx, (data,target) in enumerate(train_loader):\n",
    "#         data, target = data.to(device), target.to(device)\n",
    "#         optimizer.zero_grad()\n",
    "#         outputs = model(data)\n",
    "#         loss = criterion(outputs, target)\n",
    "#         loss.backward()\n",
    "#         optimizer.step()\n",
    "    \n",
    "#     # Set model to evaluation mode\n",
    "#     model.eval()\n",
    "#     val_loss = 0\n",
    "#     with torch.no_grad():\n",
    "#         for data, target in val_loader:\n",
    "#             data, target = data.to(device), target.to(device)\n",
    "#             val_out = model(X_val)\n",
    "#             val_loss = criterion(val_out, y_val)\n",
    "    \n",
    "#     # Store loss for data vis\n",
    "#     list_of_lists.append([epoch, loss.item(), val_loss.item()])\n",
    "    \n",
    "#     # Logging\n",
    "#     if epoch % 100 == 0:\n",
    "#         print(f'Epoch {epoch+1},\\t Train Loss: {loss.item()},\\t Val Loss: {val_loss.item()}')"
   ]
  },
  {
   "cell_type": "code",
   "execution_count": 84,
   "metadata": {},
   "outputs": [],
   "source": [
    "# Define model and hyperparameters\n",
    "model = UpvotesPredictorNN().to(device)\n",
    "criterion = nn.MSELoss()\n",
    "num_epochs = 2000\n",
    "optimizer = optim.Adam(model.parameters(), lr=0.001)\n",
    "\n",
    "# Batching\n",
    "# batch_size = 64\n",
    "\n",
    "# train_dataset = TensorDataset(X_train, y_train)\n",
    "# train_loader = DataLoader(train_dataset, batch_size=batch_size, shuffle=True)\n",
    "\n",
    "# val_dataset = TensorDataset(X_val, y_val)\n",
    "# val_loader = DataLoader(TensorDataset(X_val, y_val), batch_size=batch_size, shuffle=False)\n",
    "\n",
    "\n",
    "\n",
    "# Storage object for data vis\n",
    "list_of_lists = []\n",
    "\n",
    "# Training loop\n",
    "for epoch in range(num_epochs):\n",
    "    # Set model to training mode\n",
    "    model.train()\n",
    "    optimizer.zero_grad()\n",
    "    outputs = model(X_train.to(device))\n",
    "    loss = criterion(outputs, y_train.to(device))\n",
    "    loss.backward()\n",
    "    optimizer.step()\n",
    "    \n",
    "    \n",
    "    # Set model to evaluation mode\n",
    "    model.eval()\n",
    "    val_loss = 0\n",
    "    with torch.no_grad():\n",
    "        predictions = model(X_test.to(device))\n",
    "        val_loss = criterion(predictions, y_test.to(device))\n",
    "    \n",
    "    # Store loss for data vis\n",
    "    list_of_lists.append([epoch, loss.item(), val_loss.item()])\n",
    "    \n",
    "    # # Logging\n",
    "\n",
    "    # if epoch % 10 == 0:\n",
    "    #     print(f'Epoch {epoch+1},\\t Train Loss: {loss.item()},\\t Val Loss: {val_loss.item()}')"
   ]
  },
  {
   "cell_type": "code",
   "execution_count": 85,
   "metadata": {},
   "outputs": [],
   "source": [
    "train_loss_list = []\n",
    "val_loss_list = []\n",
    "epoch_list = []\n",
    "\n",
    "for i,j,k in list_of_lists:\n",
    "    epoch_list.append(i)\n",
    "    train_loss_list.append(j)\n",
    "    val_loss_list.append(k)"
   ]
  },
  {
   "cell_type": "code",
   "execution_count": 86,
   "metadata": {},
   "outputs": [
    {
     "data": {
      "image/png": "[encoded data removed]",
      "text/plain": [
       "<Figure size 640x480 with 1 Axes>"
      ]
     },
     "metadata": {},
     "output_type": "display_data"
    }
   ],
   "source": [
    "plt.plot(epoch_list, train_loss_list, label='Train Loss')\n",
    "plt.plot(epoch_list, val_loss_list, label='Val Loss')\n",
    "plt.title('Loss over epochs')\n",
    "plt.xlabel('Epochs')\n",
    "plt.ylabel('Loss')\n",
    "plt.legend()\n",
    "plt.show()"
   ]
  },
  {
   "cell_type": "code",
   "execution_count": 87,
   "metadata": {},
   "outputs": [
    {
     "name": "stdout",
     "output_type": "stream",
     "text": [
      "Test Loss: 247.08216857910156\n"
     ]
    }
   ],
   "source": [
    "with torch.no_grad():\n",
    "    model.eval()\n",
    "    predictions = model(X_test)\n",
    "    test_loss = criterion(predictions, y_test) \n",
    "\n",
    "print(f'Test Loss: {test_loss.item()}')"
   ]
  },
  {
   "cell_type": "code",
   "execution_count": 88,
   "metadata": {},
   "outputs": [
    {
     "data": {
      "text/plain": [
       "20711"
      ]
     },
     "execution_count": 88,
     "metadata": {},
     "output_type": "execute_result"
    }
   ],
   "source": [
    "np.argmax(y_test.cpu().numpy())"
   ]
  },
  {
   "cell_type": "code",
   "execution_count": 89,
   "metadata": {},
   "outputs": [
    {
     "name": "stdout",
     "output_type": "stream",
     "text": [
      "Original Sentence: only the beginning\n",
      "Predicted Upvotes Value: 7.67294454574585\n",
      "Actual Upvotes Value: 532.0\n"
     ]
    }
   ],
   "source": [
    "index_to_check = 20711\n",
    "\n",
    "with torch.no_grad():\n",
    "    model.eval()\n",
    "    predictions = model(X_test)\n",
    "\n",
    "specific_test_example = X_test[index_to_check]\n",
    "predicted_value = predictions[index_to_check]\n",
    "actual_value = y_test[index_to_check]\n",
    "\n",
    "print(\"Original Sentence:\", data_df['title'].iloc[index_to_check])\n",
    "print(\"Predicted Upvotes Value:\", predicted_value.item())\n",
    "print(\"Actual Upvotes Value:\", actual_value.item())"
   ]
  },
  {
   "cell_type": "markdown",
   "metadata": {},
   "source": [
    "EDA"
   ]
  },
  {
   "cell_type": "code",
   "execution_count": 90,
   "metadata": {},
   "outputs": [
    {
     "name": "stdout",
     "output_type": "stream",
     "text": [
      "count    165806.000000\n",
      "mean          7.180512\n",
      "std          16.401199\n",
      "min           0.000000\n",
      "25%           1.000000\n",
      "50%           2.000000\n",
      "75%           5.000000\n",
      "max         928.000000\n",
      "Name: score, dtype: float64\n"
     ]
    }
   ],
   "source": [
    "print(data_df['score'].describe())\n"
   ]
  },
  {
   "cell_type": "code",
   "execution_count": 91,
   "metadata": {},
   "outputs": [
    {
     "name": "stderr",
     "output_type": "stream",
     "text": [
      "/Users/jacob/miniconda3/envs/mlx4-2/lib/python3.12/site-packages/seaborn/_oldcore.py:1119: FutureWarning: use_inf_as_na option is deprecated and will be removed in a future version. Convert inf values to NaN before operating instead.\n",
      "  with pd.option_context('mode.use_inf_as_na', True):\n"
     ]
    },
    {
     "data": {
      "image/png": "[encoded data removed]",
      "text/plain": [
       "<Figure size 640x480 with 1 Axes>"
      ]
     },
     "metadata": {},
     "output_type": "display_data"
    },
    {
     "data": {
      "image/png": "[encoded data removed]",
      "text/plain": [
       "<Figure size 640x480 with 1 Axes>"
      ]
     },
     "metadata": {},
     "output_type": "display_data"
    }
   ],
   "source": [
    "\n",
    "# Histogram of scores\n",
    "sns.histplot(data_df['score'], bins=30, kde=True)\n",
    "plt.title('Distribution of Scores')\n",
    "plt.xlabel('Score')\n",
    "plt.ylabel('Frequency')\n",
    "plt.show()\n",
    "\n",
    "# Boxplot for outlier visualization\n",
    "sns.boxplot(x=data_df['score'])\n",
    "plt.title('Boxplot of Scores')\n",
    "plt.xlabel('Score')\n",
    "plt.show()\n"
   ]
  },
  {
   "cell_type": "code",
   "execution_count": 92,
   "metadata": {},
   "outputs": [
    {
     "name": "stdout",
     "output_type": "stream",
     "text": [
      "Skewness: 7.896909\n",
      "Kurtosis: 146.022585\n"
     ]
    }
   ],
   "source": [
    "print(\"Skewness: %f\" % data_df['score'].skew())\n",
    "print(\"Kurtosis: %f\" % data_df['score'].kurt())\n"
   ]
  },
  {
   "cell_type": "code",
   "execution_count": 93,
   "metadata": {},
   "outputs": [
    {
     "name": "stderr",
     "output_type": "stream",
     "text": [
      "/Users/jacob/miniconda3/envs/mlx4-2/lib/python3.12/site-packages/seaborn/_oldcore.py:1119: FutureWarning: use_inf_as_na option is deprecated and will be removed in a future version. Convert inf values to NaN before operating instead.\n",
      "  with pd.option_context('mode.use_inf_as_na', True):\n"
     ]
    },
    {
     "data": {
      "image/png": "[encoded data removed]",
      "text/plain": [
       "<Figure size 640x480 with 1 Axes>"
      ]
     },
     "metadata": {},
     "output_type": "display_data"
    }
   ],
   "source": [
    "sns.kdeplot(data_df['score'], fill=True)\n",
    "plt.title('Density Plot of Scores')\n",
    "plt.xlabel('Score')\n",
    "plt.ylabel('Density')\n",
    "plt.show()\n"
   ]
  },
  {
   "cell_type": "code",
   "execution_count": 94,
   "metadata": {},
   "outputs": [
    {
     "name": "stdout",
     "output_type": "stream",
     "text": [
      "R^2 Score for Test Set: -0.014565456480363448\n"
     ]
    }
   ],
   "source": [
    "from sklearn.metrics import r2_score\n",
    "\n",
    "# Calculate R^2 score for training and test sets\n",
    "# r2_score_train = r2_score(y_train, train_predictions)\n",
    "r2_score_test = r2_score(y_test, predictions)\n",
    "\n",
    "# print(\"R^2 Score for Training Set:\", r2_score_train)\n",
    "print(\"R^2 Score for Test Set:\", r2_score_test)\n"
   ]
  }
 ],
 "metadata": {
  "kernelspec": {
   "display_name": "mlx4-2",
   "language": "python",
   "name": "python3"
  },
  "language_info": {
   "codemirror_mode": {
    "name": "ipython",
    "version": 3
   },
   "file_extension": ".py",
   "mimetype": "text/x-python",
   "name": "python",
   "nbconvert_exporter": "python",
   "pygments_lexer": "ipython3",
   "version": "3.12.2"
  }
 },
 "nbformat": 4,
 "nbformat_minor": 2
}
